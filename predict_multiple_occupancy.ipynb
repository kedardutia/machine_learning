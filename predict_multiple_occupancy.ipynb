{
 "cells": [
  {
   "cell_type": "markdown",
   "metadata": {},
   "source": [
    "# Predict multiple occupancy from motion sensors"
   ]
  },
  {
   "cell_type": "markdown",
   "metadata": {},
   "source": [
    "## Setup"
   ]
  },
  {
   "cell_type": "code",
   "execution_count": 1,
   "metadata": {},
   "outputs": [],
   "source": [
    "# Imports\n",
    "import sqlite3\n",
    "import numpy as np\n",
    "import pandas as pd\n",
    "import seaborn as sns\n",
    "import matplotlib.pyplot as plt\n",
    "from sklearn.model_selection import train_test_split\n",
    "from sklearn.ensemble import RandomForestClassifier\n",
    "from sklearn.metrics import accuracy_score"
   ]
  },
  {
   "cell_type": "code",
   "execution_count": 2,
   "metadata": {},
   "outputs": [],
   "source": [
    "# Load tables as pandas dataframes \n",
    "db = '../data/data.db'\n",
    "\n",
    "try:\n",
    "    conn = sqlite3.connect(db)\n",
    "    \n",
    "except sqlite3.Error as error:\n",
    "    print('Error occurred - ', error)\n",
    "\n",
    "df_homes = pd.read_sql_query(\"select * from homes\", conn)\n",
    "df_motion = pd.read_sql_query(\"select * from motion\", conn)"
   ]
  },
  {
   "cell_type": "markdown",
   "metadata": {},
   "source": [
    "## Homes table data validation"
   ]
  },
  {
   "cell_type": "code",
   "execution_count": 3,
   "metadata": {},
   "outputs": [
    {
     "data": {
      "text/html": [
       "<div>\n",
       "<style scoped>\n",
       "    .dataframe tbody tr th:only-of-type {\n",
       "        vertical-align: middle;\n",
       "    }\n",
       "\n",
       "    .dataframe tbody tr th {\n",
       "        vertical-align: top;\n",
       "    }\n",
       "\n",
       "    .dataframe thead th {\n",
       "        text-align: right;\n",
       "    }\n",
       "</style>\n",
       "<table border=\"1\" class=\"dataframe\">\n",
       "  <thead>\n",
       "    <tr style=\"text-align: right;\">\n",
       "      <th></th>\n",
       "      <th>id</th>\n",
       "      <th>multiple_occupancy</th>\n",
       "    </tr>\n",
       "  </thead>\n",
       "  <tbody>\n",
       "    <tr>\n",
       "      <th>0</th>\n",
       "      <td>dc922bd9bf8a2a9437642fe0dce9dcaa</td>\n",
       "      <td>0</td>\n",
       "    </tr>\n",
       "    <tr>\n",
       "      <th>1</th>\n",
       "      <td>d40fc88629271da7b5833ed3f3222d17</td>\n",
       "      <td>1</td>\n",
       "    </tr>\n",
       "    <tr>\n",
       "      <th>2</th>\n",
       "      <td>3fb064da180f02862063eca8e3b609c0</td>\n",
       "      <td>1</td>\n",
       "    </tr>\n",
       "    <tr>\n",
       "      <th>3</th>\n",
       "      <td>16d71b9c46d9abd765bf395818efe527</td>\n",
       "      <td>0</td>\n",
       "    </tr>\n",
       "    <tr>\n",
       "      <th>4</th>\n",
       "      <td>458264665736fd26184a8ea5641e6c48</td>\n",
       "      <td>1</td>\n",
       "    </tr>\n",
       "    <tr>\n",
       "      <th>...</th>\n",
       "      <td>...</td>\n",
       "      <td>...</td>\n",
       "    </tr>\n",
       "    <tr>\n",
       "      <th>101</th>\n",
       "      <td>dbe580ed60d7c329931d98a0e2ad0ea3</td>\n",
       "      <td>1</td>\n",
       "    </tr>\n",
       "    <tr>\n",
       "      <th>102</th>\n",
       "      <td>04a16138cd7e0fa768858ff7c02856d8</td>\n",
       "      <td>1</td>\n",
       "    </tr>\n",
       "    <tr>\n",
       "      <th>103</th>\n",
       "      <td>62c8145530aca30cb0455dc386c0a9d6</td>\n",
       "      <td>1</td>\n",
       "    </tr>\n",
       "    <tr>\n",
       "      <th>104</th>\n",
       "      <td>3a5cc5ac41ab3b18b63d6d8366e30fb0</td>\n",
       "      <td>1</td>\n",
       "    </tr>\n",
       "    <tr>\n",
       "      <th>105</th>\n",
       "      <td>3a1f53e2e242bff03301a250135f894b</td>\n",
       "      <td>0</td>\n",
       "    </tr>\n",
       "  </tbody>\n",
       "</table>\n",
       "<p>106 rows × 2 columns</p>\n",
       "</div>"
      ],
      "text/plain": [
       "                                   id  multiple_occupancy\n",
       "0    dc922bd9bf8a2a9437642fe0dce9dcaa                   0\n",
       "1    d40fc88629271da7b5833ed3f3222d17                   1\n",
       "2    3fb064da180f02862063eca8e3b609c0                   1\n",
       "3    16d71b9c46d9abd765bf395818efe527                   0\n",
       "4    458264665736fd26184a8ea5641e6c48                   1\n",
       "..                                ...                 ...\n",
       "101  dbe580ed60d7c329931d98a0e2ad0ea3                   1\n",
       "102  04a16138cd7e0fa768858ff7c02856d8                   1\n",
       "103  62c8145530aca30cb0455dc386c0a9d6                   1\n",
       "104  3a5cc5ac41ab3b18b63d6d8366e30fb0                   1\n",
       "105  3a1f53e2e242bff03301a250135f894b                   0\n",
       "\n",
       "[106 rows x 2 columns]"
      ]
     },
     "execution_count": 3,
     "metadata": {},
     "output_type": "execute_result"
    }
   ],
   "source": [
    "df_homes"
   ]
  },
  {
   "cell_type": "code",
   "execution_count": 4,
   "metadata": {},
   "outputs": [
    {
     "name": "stdout",
     "output_type": "stream",
     "text": [
      "<class 'pandas.core.frame.DataFrame'>\n",
      "RangeIndex: 106 entries, 0 to 105\n",
      "Data columns (total 2 columns):\n",
      " #   Column              Non-Null Count  Dtype \n",
      "---  ------              --------------  ----- \n",
      " 0   id                  106 non-null    object\n",
      " 1   multiple_occupancy  106 non-null    int64 \n",
      "dtypes: int64(1), object(1)\n",
      "memory usage: 1.8+ KB\n"
     ]
    }
   ],
   "source": [
    "df_homes.info()"
   ]
  },
  {
   "cell_type": "code",
   "execution_count": 5,
   "metadata": {},
   "outputs": [],
   "source": [
    "df_homes.id = df_homes.id.astype('string')"
   ]
  },
  {
   "cell_type": "code",
   "execution_count": 6,
   "metadata": {},
   "outputs": [
    {
     "data": {
      "text/plain": [
       "id                    string[python]\n",
       "multiple_occupancy             int64\n",
       "dtype: object"
      ]
     },
     "execution_count": 6,
     "metadata": {},
     "output_type": "execute_result"
    }
   ],
   "source": [
    "df_homes.dtypes"
   ]
  },
  {
   "cell_type": "code",
   "execution_count": 7,
   "metadata": {},
   "outputs": [
    {
     "data": {
      "text/plain": [
       "id                    106\n",
       "multiple_occupancy      2\n",
       "dtype: int64"
      ]
     },
     "execution_count": 7,
     "metadata": {},
     "output_type": "execute_result"
    }
   ],
   "source": [
    "df_homes.nunique()"
   ]
  },
  {
   "cell_type": "code",
   "execution_count": 8,
   "metadata": {},
   "outputs": [
    {
     "data": {
      "text/plain": [
       "id                    0\n",
       "multiple_occupancy    0\n",
       "dtype: int64"
      ]
     },
     "execution_count": 8,
     "metadata": {},
     "output_type": "execute_result"
    }
   ],
   "source": [
    "df_homes.isnull().sum()"
   ]
  },
  {
   "cell_type": "code",
   "execution_count": 9,
   "metadata": {},
   "outputs": [
    {
     "data": {
      "text/plain": [
       "multiple_occupancy\n",
       "1    61\n",
       "0    45\n",
       "Name: count, dtype: int64"
      ]
     },
     "execution_count": 9,
     "metadata": {},
     "output_type": "execute_result"
    }
   ],
   "source": [
    "df_homes.multiple_occupancy.value_counts()"
   ]
  },
  {
   "cell_type": "code",
   "execution_count": 10,
   "metadata": {},
   "outputs": [
    {
     "data": {
      "text/plain": [
       "home_id               string[python]\n",
       "multiple_occupancy             int64\n",
       "dtype: object"
      ]
     },
     "execution_count": 10,
     "metadata": {},
     "output_type": "execute_result"
    }
   ],
   "source": [
    "df_homes = df_homes.rename(columns={'id':'home_id'})\n",
    "df_homes.dtypes"
   ]
  },
  {
   "cell_type": "markdown",
   "metadata": {},
   "source": [
    "## Motion table data validation\n"
   ]
  },
  {
   "cell_type": "code",
   "execution_count": 11,
   "metadata": {},
   "outputs": [
    {
     "data": {
      "text/html": [
       "<div>\n",
       "<style scoped>\n",
       "    .dataframe tbody tr th:only-of-type {\n",
       "        vertical-align: middle;\n",
       "    }\n",
       "\n",
       "    .dataframe tbody tr th {\n",
       "        vertical-align: top;\n",
       "    }\n",
       "\n",
       "    .dataframe thead th {\n",
       "        text-align: right;\n",
       "    }\n",
       "</style>\n",
       "<table border=\"1\" class=\"dataframe\">\n",
       "  <thead>\n",
       "    <tr style=\"text-align: right;\">\n",
       "      <th></th>\n",
       "      <th>id</th>\n",
       "      <th>home_id</th>\n",
       "      <th>datetime</th>\n",
       "      <th>location</th>\n",
       "    </tr>\n",
       "  </thead>\n",
       "  <tbody>\n",
       "    <tr>\n",
       "      <th>0</th>\n",
       "      <td>e41218b439d933a1cd9ad158f78e9198</td>\n",
       "      <td>205c42ec747e2db13cb92087a99433f1</td>\n",
       "      <td>2024-01-01 00:00:10+00</td>\n",
       "      <td>lounge</td>\n",
       "    </tr>\n",
       "    <tr>\n",
       "      <th>1</th>\n",
       "      <td>92d48d869ae50b0764cfb8d70494f618</td>\n",
       "      <td>7d2f2e0a9e059b4fb8106bb0ad4b8a39</td>\n",
       "      <td>2024-01-01 00:00:17+00</td>\n",
       "      <td>lounge</td>\n",
       "    </tr>\n",
       "    <tr>\n",
       "      <th>2</th>\n",
       "      <td>65c18ba64884442dd47c2fd4cf3630e4</td>\n",
       "      <td>44a880cc6fc3a7db3464092f650ae7f1</td>\n",
       "      <td>2024-01-01 00:00:18+00</td>\n",
       "      <td>lounge</td>\n",
       "    </tr>\n",
       "    <tr>\n",
       "      <th>3</th>\n",
       "      <td>90d6336d189c929aa50fa08e5aee5f41</td>\n",
       "      <td>49b83fce41b676266b98cd1e095f1c11</td>\n",
       "      <td>2024-01-01 00:00:43+00</td>\n",
       "      <td>lounge</td>\n",
       "    </tr>\n",
       "    <tr>\n",
       "      <th>4</th>\n",
       "      <td>6e3d73bed24b95ffdfe5ec017787f039</td>\n",
       "      <td>14328a0b7574e912c2e23d62c9476a07</td>\n",
       "      <td>2024-01-01 00:00:57+00</td>\n",
       "      <td>lounge</td>\n",
       "    </tr>\n",
       "    <tr>\n",
       "      <th>...</th>\n",
       "      <td>...</td>\n",
       "      <td>...</td>\n",
       "      <td>...</td>\n",
       "      <td>...</td>\n",
       "    </tr>\n",
       "    <tr>\n",
       "      <th>580312</th>\n",
       "      <td>5ec75a93dcc136e6a4c7a4483d60b2ed</td>\n",
       "      <td>3a1f53e2e242bff03301a250135f894b</td>\n",
       "      <td>2024-01-31 23:58:26+00</td>\n",
       "      <td>bathroom1</td>\n",
       "    </tr>\n",
       "    <tr>\n",
       "      <th>580313</th>\n",
       "      <td>406c70038a540d29b1e68250d5ed341c</td>\n",
       "      <td>37b99328702f9fdc68c431a4ac450f2e</td>\n",
       "      <td>2024-01-31 23:58:36+00</td>\n",
       "      <td>kitchen</td>\n",
       "    </tr>\n",
       "    <tr>\n",
       "      <th>580314</th>\n",
       "      <td>5168c52c3c022d747c81a6e6ce868e3f</td>\n",
       "      <td>3a1f53e2e242bff03301a250135f894b</td>\n",
       "      <td>2024-01-31 23:59:02+00</td>\n",
       "      <td>bedroom1</td>\n",
       "    </tr>\n",
       "    <tr>\n",
       "      <th>580315</th>\n",
       "      <td>40cad449e7cef4164b02672e8caff379</td>\n",
       "      <td>2b5ce37a65e82735416d69b987d99fe8</td>\n",
       "      <td>2024-01-31 23:59:09+00</td>\n",
       "      <td>hallway</td>\n",
       "    </tr>\n",
       "    <tr>\n",
       "      <th>580316</th>\n",
       "      <td>85cd6fe2cc3e585b17c4f7b9aaa4a439</td>\n",
       "      <td>37b99328702f9fdc68c431a4ac450f2e</td>\n",
       "      <td>2024-01-31 23:59:12+00</td>\n",
       "      <td>kitchen</td>\n",
       "    </tr>\n",
       "  </tbody>\n",
       "</table>\n",
       "<p>580317 rows × 4 columns</p>\n",
       "</div>"
      ],
      "text/plain": [
       "                                      id                           home_id  \\\n",
       "0       e41218b439d933a1cd9ad158f78e9198  205c42ec747e2db13cb92087a99433f1   \n",
       "1       92d48d869ae50b0764cfb8d70494f618  7d2f2e0a9e059b4fb8106bb0ad4b8a39   \n",
       "2       65c18ba64884442dd47c2fd4cf3630e4  44a880cc6fc3a7db3464092f650ae7f1   \n",
       "3       90d6336d189c929aa50fa08e5aee5f41  49b83fce41b676266b98cd1e095f1c11   \n",
       "4       6e3d73bed24b95ffdfe5ec017787f039  14328a0b7574e912c2e23d62c9476a07   \n",
       "...                                  ...                               ...   \n",
       "580312  5ec75a93dcc136e6a4c7a4483d60b2ed  3a1f53e2e242bff03301a250135f894b   \n",
       "580313  406c70038a540d29b1e68250d5ed341c  37b99328702f9fdc68c431a4ac450f2e   \n",
       "580314  5168c52c3c022d747c81a6e6ce868e3f  3a1f53e2e242bff03301a250135f894b   \n",
       "580315  40cad449e7cef4164b02672e8caff379  2b5ce37a65e82735416d69b987d99fe8   \n",
       "580316  85cd6fe2cc3e585b17c4f7b9aaa4a439  37b99328702f9fdc68c431a4ac450f2e   \n",
       "\n",
       "                      datetime   location  \n",
       "0       2024-01-01 00:00:10+00     lounge  \n",
       "1       2024-01-01 00:00:17+00     lounge  \n",
       "2       2024-01-01 00:00:18+00     lounge  \n",
       "3       2024-01-01 00:00:43+00     lounge  \n",
       "4       2024-01-01 00:00:57+00     lounge  \n",
       "...                        ...        ...  \n",
       "580312  2024-01-31 23:58:26+00  bathroom1  \n",
       "580313  2024-01-31 23:58:36+00    kitchen  \n",
       "580314  2024-01-31 23:59:02+00   bedroom1  \n",
       "580315  2024-01-31 23:59:09+00    hallway  \n",
       "580316  2024-01-31 23:59:12+00    kitchen  \n",
       "\n",
       "[580317 rows x 4 columns]"
      ]
     },
     "execution_count": 11,
     "metadata": {},
     "output_type": "execute_result"
    }
   ],
   "source": [
    "df_motion"
   ]
  },
  {
   "cell_type": "code",
   "execution_count": 12,
   "metadata": {},
   "outputs": [
    {
     "name": "stdout",
     "output_type": "stream",
     "text": [
      "<class 'pandas.core.frame.DataFrame'>\n",
      "RangeIndex: 580317 entries, 0 to 580316\n",
      "Data columns (total 4 columns):\n",
      " #   Column    Non-Null Count   Dtype \n",
      "---  ------    --------------   ----- \n",
      " 0   id        580317 non-null  object\n",
      " 1   home_id   580317 non-null  object\n",
      " 2   datetime  580317 non-null  object\n",
      " 3   location  580317 non-null  object\n",
      "dtypes: object(4)\n",
      "memory usage: 17.7+ MB\n"
     ]
    }
   ],
   "source": [
    "df_motion.info()    "
   ]
  },
  {
   "cell_type": "code",
   "execution_count": 13,
   "metadata": {},
   "outputs": [
    {
     "data": {
      "text/plain": [
       "id          580317\n",
       "home_id         50\n",
       "datetime    502280\n",
       "location        10\n",
       "dtype: int64"
      ]
     },
     "execution_count": 13,
     "metadata": {},
     "output_type": "execute_result"
    }
   ],
   "source": [
    "df_motion.nunique()"
   ]
  },
  {
   "cell_type": "code",
   "execution_count": 14,
   "metadata": {},
   "outputs": [
    {
     "data": {
      "text/plain": [
       "id          0\n",
       "home_id     0\n",
       "datetime    0\n",
       "location    0\n",
       "dtype: int64"
      ]
     },
     "execution_count": 14,
     "metadata": {},
     "output_type": "execute_result"
    }
   ],
   "source": [
    "df_motion.isnull().sum()"
   ]
  },
  {
   "cell_type": "code",
   "execution_count": 15,
   "metadata": {},
   "outputs": [
    {
     "data": {
      "text/plain": [
       "home_id\n",
       "3a1f53e2e242bff03301a250135f894b    26472\n",
       "c026d3469f489d341ab145bd62d00796    22658\n",
       "2739e3f7409068a94cf6e3eac643c2e7    20501\n",
       "49b83fce41b676266b98cd1e095f1c11    20019\n",
       "83740365903618c9bec6c786ce5643e9    18250\n",
       "b2791887c7c0dca72cc0c9f921a976df    18078\n",
       "3b57a456d431b64da3485c6aedfc13c1    17372\n",
       "424fc251603608ed5de614b11ce0c409    17137\n",
       "44a880cc6fc3a7db3464092f650ae7f1    16375\n",
       "c07573c70bf978b70906b09edcbc6d57    16282\n",
       "205c42ec747e2db13cb92087a99433f1    16191\n",
       "14328a0b7574e912c2e23d62c9476a07    15977\n",
       "352d5124d21e0cd52ea4124ada6391c6    15508\n",
       "53dcb3b61f7eec0a28d5983c9b6b29db    15418\n",
       "0f44ff9edd221e417195f4398d2f3853    15303\n",
       "930874c7cb4c0a68e876a6b5b044d22a    14946\n",
       "62c8145530aca30cb0455dc386c0a9d6    14649\n",
       "5ce0757be7d84242c9c73b975e93146b    13700\n",
       "6be9c116a8a5e94d01efe4b6ebb3a1fe    13351\n",
       "a8dfbc0f5d4c2e5601b5c9cd870a6de7    12654\n",
       "e081c6aaaedac3d3678d3307388026fb    11846\n",
       "a3b30fd4c2ba426cc01de5ce8adcdcae    11617\n",
       "3a5cc5ac41ab3b18b63d6d8366e30fb0    11518\n",
       "31c4eba2695cea9bec8abf0bf56bdc6b    11390\n",
       "ea84ae5d13b9039b3a43fca76440442c    11169\n",
       "e20d5b29a2c83e1c26e68e9af73a24e9    11136\n",
       "dbe580ed60d7c329931d98a0e2ad0ea3    11118\n",
       "b01397ea487498976a5b4ee93b173d4b    10861\n",
       "ddc8427426a01a1835cbaf56d87fb265    10827\n",
       "5d551393aa8a77bfe52abbab052ff76e    10610\n",
       "d662b21f8afd8bbd08ea38d1c2e07eee    10368\n",
       "911f2a35cd30fb076d5f9c5544732585     9436\n",
       "7f7c3ffa2250e040da012e63d3e3f2c6     8148\n",
       "7d2f2e0a9e059b4fb8106bb0ad4b8a39     7417\n",
       "acb91abc000b324e089f2a73f2391cde     7379\n",
       "2a035e0f88dd05d3c5e61ebee0531a4c     7377\n",
       "bf08d12a831a2fdbfd9a09d84a24e73e     7211\n",
       "20a3ebd4470c712d6f6d99908d931e09     7166\n",
       "9ec56226b671b2e85411d0a60dece491     6847\n",
       "16d71b9c46d9abd765bf395818efe527     6780\n",
       "15663392d490688cd4b0e5aa3d5b6ef3     6296\n",
       "48b4322a7dcc5a5969301b516333272f     6213\n",
       "f5a2b27c9d8bb7f59b7b0684d3555e52     5906\n",
       "7d0c35e6c50b2c266742fd87e8d5f427     5756\n",
       "37b99328702f9fdc68c431a4ac450f2e     5286\n",
       "87b7608f59591e4a36a99cb5b77c492e     5201\n",
       "5015954bba0f14bdc461c5a7889ba012     5137\n",
       "2b5ce37a65e82735416d69b987d99fe8     4510\n",
       "0904961f621c9bd03542b43b992ec431     3442\n",
       "df9f7afaae7821246e296a41e9e2a6b4     1508\n",
       "Name: count, dtype: int64"
      ]
     },
     "execution_count": 15,
     "metadata": {},
     "output_type": "execute_result"
    }
   ],
   "source": [
    "df_motion.home_id.value_counts()"
   ]
  },
  {
   "cell_type": "code",
   "execution_count": 16,
   "metadata": {},
   "outputs": [
    {
     "data": {
      "text/plain": [
       "location\n",
       "kitchen         158415\n",
       "lounge          153080\n",
       "hallway          97011\n",
       "bedroom1         75433\n",
       "bathroom1        49507\n",
       "dining room      17053\n",
       "WC1              10723\n",
       "conservatory      7715\n",
       "study             5845\n",
       "living room       5535\n",
       "Name: count, dtype: int64"
      ]
     },
     "execution_count": 16,
     "metadata": {},
     "output_type": "execute_result"
    }
   ],
   "source": [
    "df_motion.location.value_counts()"
   ]
  },
  {
   "cell_type": "code",
   "execution_count": 17,
   "metadata": {},
   "outputs": [],
   "source": [
    "df_motion[['id', 'home_id', 'location']] = df_motion[['id', 'home_id', 'location']].astype('string')"
   ]
  },
  {
   "cell_type": "code",
   "execution_count": 18,
   "metadata": {},
   "outputs": [],
   "source": [
    "df_motion.datetime = pd.to_datetime(df_motion.datetime, format='mixed', utc=False)"
   ]
  },
  {
   "cell_type": "markdown",
   "metadata": {},
   "source": [
    "## Joining the tables"
   ]
  },
  {
   "cell_type": "code",
   "execution_count": 19,
   "metadata": {},
   "outputs": [
    {
     "data": {
      "text/html": [
       "<div>\n",
       "<style scoped>\n",
       "    .dataframe tbody tr th:only-of-type {\n",
       "        vertical-align: middle;\n",
       "    }\n",
       "\n",
       "    .dataframe tbody tr th {\n",
       "        vertical-align: top;\n",
       "    }\n",
       "\n",
       "    .dataframe thead th {\n",
       "        text-align: right;\n",
       "    }\n",
       "</style>\n",
       "<table border=\"1\" class=\"dataframe\">\n",
       "  <thead>\n",
       "    <tr style=\"text-align: right;\">\n",
       "      <th></th>\n",
       "      <th>home_id</th>\n",
       "      <th>multiple_occupancy</th>\n",
       "      <th>id</th>\n",
       "      <th>datetime</th>\n",
       "      <th>location</th>\n",
       "    </tr>\n",
       "  </thead>\n",
       "  <tbody>\n",
       "    <tr>\n",
       "      <th>0</th>\n",
       "      <td>16d71b9c46d9abd765bf395818efe527</td>\n",
       "      <td>0</td>\n",
       "      <td>d68b171e348758a47d016f1564532dfe</td>\n",
       "      <td>2024-01-01 10:53:48+00:00</td>\n",
       "      <td>lounge</td>\n",
       "    </tr>\n",
       "    <tr>\n",
       "      <th>1</th>\n",
       "      <td>16d71b9c46d9abd765bf395818efe527</td>\n",
       "      <td>0</td>\n",
       "      <td>a7c2c8dd668e34d559797f4efecc1e2b</td>\n",
       "      <td>2024-01-01 10:55:40+00:00</td>\n",
       "      <td>lounge</td>\n",
       "    </tr>\n",
       "    <tr>\n",
       "      <th>2</th>\n",
       "      <td>16d71b9c46d9abd765bf395818efe527</td>\n",
       "      <td>0</td>\n",
       "      <td>07171a04ae1af97b1c6d11a1dc3ac89f</td>\n",
       "      <td>2024-01-01 10:56:47+00:00</td>\n",
       "      <td>lounge</td>\n",
       "    </tr>\n",
       "    <tr>\n",
       "      <th>3</th>\n",
       "      <td>16d71b9c46d9abd765bf395818efe527</td>\n",
       "      <td>0</td>\n",
       "      <td>fe6510edcd2ca6d95183a554e598a7d2</td>\n",
       "      <td>2024-01-01 10:57:12+00:00</td>\n",
       "      <td>lounge</td>\n",
       "    </tr>\n",
       "    <tr>\n",
       "      <th>4</th>\n",
       "      <td>16d71b9c46d9abd765bf395818efe527</td>\n",
       "      <td>0</td>\n",
       "      <td>c1d5917ca6f695ea971b8251ef1d80e0</td>\n",
       "      <td>2024-01-01 10:59:31+00:00</td>\n",
       "      <td>lounge</td>\n",
       "    </tr>\n",
       "    <tr>\n",
       "      <th>...</th>\n",
       "      <td>...</td>\n",
       "      <td>...</td>\n",
       "      <td>...</td>\n",
       "      <td>...</td>\n",
       "      <td>...</td>\n",
       "    </tr>\n",
       "    <tr>\n",
       "      <th>580312</th>\n",
       "      <td>3a1f53e2e242bff03301a250135f894b</td>\n",
       "      <td>0</td>\n",
       "      <td>b1e1ae91265ffd838686669e1bc3b8dd</td>\n",
       "      <td>2024-01-31 23:54:14+00:00</td>\n",
       "      <td>bedroom1</td>\n",
       "    </tr>\n",
       "    <tr>\n",
       "      <th>580313</th>\n",
       "      <td>3a1f53e2e242bff03301a250135f894b</td>\n",
       "      <td>0</td>\n",
       "      <td>18ac0583c2216bf23fb58505e999865f</td>\n",
       "      <td>2024-01-31 23:55:08+00:00</td>\n",
       "      <td>bedroom1</td>\n",
       "    </tr>\n",
       "    <tr>\n",
       "      <th>580314</th>\n",
       "      <td>3a1f53e2e242bff03301a250135f894b</td>\n",
       "      <td>0</td>\n",
       "      <td>54b172e8d4c07245901e38af65263efc</td>\n",
       "      <td>2024-01-31 23:55:38+00:00</td>\n",
       "      <td>bathroom1</td>\n",
       "    </tr>\n",
       "    <tr>\n",
       "      <th>580315</th>\n",
       "      <td>3a1f53e2e242bff03301a250135f894b</td>\n",
       "      <td>0</td>\n",
       "      <td>5ec75a93dcc136e6a4c7a4483d60b2ed</td>\n",
       "      <td>2024-01-31 23:58:26+00:00</td>\n",
       "      <td>bathroom1</td>\n",
       "    </tr>\n",
       "    <tr>\n",
       "      <th>580316</th>\n",
       "      <td>3a1f53e2e242bff03301a250135f894b</td>\n",
       "      <td>0</td>\n",
       "      <td>5168c52c3c022d747c81a6e6ce868e3f</td>\n",
       "      <td>2024-01-31 23:59:02+00:00</td>\n",
       "      <td>bedroom1</td>\n",
       "    </tr>\n",
       "  </tbody>\n",
       "</table>\n",
       "<p>580317 rows × 5 columns</p>\n",
       "</div>"
      ],
      "text/plain": [
       "                                 home_id  multiple_occupancy  \\\n",
       "0       16d71b9c46d9abd765bf395818efe527                   0   \n",
       "1       16d71b9c46d9abd765bf395818efe527                   0   \n",
       "2       16d71b9c46d9abd765bf395818efe527                   0   \n",
       "3       16d71b9c46d9abd765bf395818efe527                   0   \n",
       "4       16d71b9c46d9abd765bf395818efe527                   0   \n",
       "...                                  ...                 ...   \n",
       "580312  3a1f53e2e242bff03301a250135f894b                   0   \n",
       "580313  3a1f53e2e242bff03301a250135f894b                   0   \n",
       "580314  3a1f53e2e242bff03301a250135f894b                   0   \n",
       "580315  3a1f53e2e242bff03301a250135f894b                   0   \n",
       "580316  3a1f53e2e242bff03301a250135f894b                   0   \n",
       "\n",
       "                                      id                  datetime   location  \n",
       "0       d68b171e348758a47d016f1564532dfe 2024-01-01 10:53:48+00:00     lounge  \n",
       "1       a7c2c8dd668e34d559797f4efecc1e2b 2024-01-01 10:55:40+00:00     lounge  \n",
       "2       07171a04ae1af97b1c6d11a1dc3ac89f 2024-01-01 10:56:47+00:00     lounge  \n",
       "3       fe6510edcd2ca6d95183a554e598a7d2 2024-01-01 10:57:12+00:00     lounge  \n",
       "4       c1d5917ca6f695ea971b8251ef1d80e0 2024-01-01 10:59:31+00:00     lounge  \n",
       "...                                  ...                       ...        ...  \n",
       "580312  b1e1ae91265ffd838686669e1bc3b8dd 2024-01-31 23:54:14+00:00   bedroom1  \n",
       "580313  18ac0583c2216bf23fb58505e999865f 2024-01-31 23:55:08+00:00   bedroom1  \n",
       "580314  54b172e8d4c07245901e38af65263efc 2024-01-31 23:55:38+00:00  bathroom1  \n",
       "580315  5ec75a93dcc136e6a4c7a4483d60b2ed 2024-01-31 23:58:26+00:00  bathroom1  \n",
       "580316  5168c52c3c022d747c81a6e6ce868e3f 2024-01-31 23:59:02+00:00   bedroom1  \n",
       "\n",
       "[580317 rows x 5 columns]"
      ]
     },
     "execution_count": 19,
     "metadata": {},
     "output_type": "execute_result"
    }
   ],
   "source": [
    "df_join = df_homes.merge(df_motion, on='home_id')\n",
    "df_join"
   ]
  },
  {
   "cell_type": "markdown",
   "metadata": {},
   "source": [
    "## Extracting features from datetime "
   ]
  },
  {
   "cell_type": "code",
   "execution_count": 20,
   "metadata": {},
   "outputs": [
    {
     "data": {
      "text/html": [
       "<div>\n",
       "<style scoped>\n",
       "    .dataframe tbody tr th:only-of-type {\n",
       "        vertical-align: middle;\n",
       "    }\n",
       "\n",
       "    .dataframe tbody tr th {\n",
       "        vertical-align: top;\n",
       "    }\n",
       "\n",
       "    .dataframe thead th {\n",
       "        text-align: right;\n",
       "    }\n",
       "</style>\n",
       "<table border=\"1\" class=\"dataframe\">\n",
       "  <thead>\n",
       "    <tr style=\"text-align: right;\">\n",
       "      <th></th>\n",
       "      <th>home_id</th>\n",
       "      <th>multiple_occupancy</th>\n",
       "      <th>id</th>\n",
       "      <th>datetime</th>\n",
       "      <th>location</th>\n",
       "      <th>year</th>\n",
       "      <th>month</th>\n",
       "      <th>day</th>\n",
       "      <th>hour</th>\n",
       "      <th>minute</th>\n",
       "    </tr>\n",
       "  </thead>\n",
       "  <tbody>\n",
       "    <tr>\n",
       "      <th>0</th>\n",
       "      <td>16d71b9c46d9abd765bf395818efe527</td>\n",
       "      <td>0</td>\n",
       "      <td>d68b171e348758a47d016f1564532dfe</td>\n",
       "      <td>2024-01-01 10:53:48+00:00</td>\n",
       "      <td>lounge</td>\n",
       "      <td>2024</td>\n",
       "      <td>1</td>\n",
       "      <td>1</td>\n",
       "      <td>10</td>\n",
       "      <td>53</td>\n",
       "    </tr>\n",
       "    <tr>\n",
       "      <th>1</th>\n",
       "      <td>16d71b9c46d9abd765bf395818efe527</td>\n",
       "      <td>0</td>\n",
       "      <td>a7c2c8dd668e34d559797f4efecc1e2b</td>\n",
       "      <td>2024-01-01 10:55:40+00:00</td>\n",
       "      <td>lounge</td>\n",
       "      <td>2024</td>\n",
       "      <td>1</td>\n",
       "      <td>1</td>\n",
       "      <td>10</td>\n",
       "      <td>55</td>\n",
       "    </tr>\n",
       "    <tr>\n",
       "      <th>2</th>\n",
       "      <td>16d71b9c46d9abd765bf395818efe527</td>\n",
       "      <td>0</td>\n",
       "      <td>07171a04ae1af97b1c6d11a1dc3ac89f</td>\n",
       "      <td>2024-01-01 10:56:47+00:00</td>\n",
       "      <td>lounge</td>\n",
       "      <td>2024</td>\n",
       "      <td>1</td>\n",
       "      <td>1</td>\n",
       "      <td>10</td>\n",
       "      <td>56</td>\n",
       "    </tr>\n",
       "    <tr>\n",
       "      <th>3</th>\n",
       "      <td>16d71b9c46d9abd765bf395818efe527</td>\n",
       "      <td>0</td>\n",
       "      <td>fe6510edcd2ca6d95183a554e598a7d2</td>\n",
       "      <td>2024-01-01 10:57:12+00:00</td>\n",
       "      <td>lounge</td>\n",
       "      <td>2024</td>\n",
       "      <td>1</td>\n",
       "      <td>1</td>\n",
       "      <td>10</td>\n",
       "      <td>57</td>\n",
       "    </tr>\n",
       "    <tr>\n",
       "      <th>4</th>\n",
       "      <td>16d71b9c46d9abd765bf395818efe527</td>\n",
       "      <td>0</td>\n",
       "      <td>c1d5917ca6f695ea971b8251ef1d80e0</td>\n",
       "      <td>2024-01-01 10:59:31+00:00</td>\n",
       "      <td>lounge</td>\n",
       "      <td>2024</td>\n",
       "      <td>1</td>\n",
       "      <td>1</td>\n",
       "      <td>10</td>\n",
       "      <td>59</td>\n",
       "    </tr>\n",
       "    <tr>\n",
       "      <th>...</th>\n",
       "      <td>...</td>\n",
       "      <td>...</td>\n",
       "      <td>...</td>\n",
       "      <td>...</td>\n",
       "      <td>...</td>\n",
       "      <td>...</td>\n",
       "      <td>...</td>\n",
       "      <td>...</td>\n",
       "      <td>...</td>\n",
       "      <td>...</td>\n",
       "    </tr>\n",
       "    <tr>\n",
       "      <th>580312</th>\n",
       "      <td>3a1f53e2e242bff03301a250135f894b</td>\n",
       "      <td>0</td>\n",
       "      <td>b1e1ae91265ffd838686669e1bc3b8dd</td>\n",
       "      <td>2024-01-31 23:54:14+00:00</td>\n",
       "      <td>bedroom1</td>\n",
       "      <td>2024</td>\n",
       "      <td>1</td>\n",
       "      <td>31</td>\n",
       "      <td>23</td>\n",
       "      <td>54</td>\n",
       "    </tr>\n",
       "    <tr>\n",
       "      <th>580313</th>\n",
       "      <td>3a1f53e2e242bff03301a250135f894b</td>\n",
       "      <td>0</td>\n",
       "      <td>18ac0583c2216bf23fb58505e999865f</td>\n",
       "      <td>2024-01-31 23:55:08+00:00</td>\n",
       "      <td>bedroom1</td>\n",
       "      <td>2024</td>\n",
       "      <td>1</td>\n",
       "      <td>31</td>\n",
       "      <td>23</td>\n",
       "      <td>55</td>\n",
       "    </tr>\n",
       "    <tr>\n",
       "      <th>580314</th>\n",
       "      <td>3a1f53e2e242bff03301a250135f894b</td>\n",
       "      <td>0</td>\n",
       "      <td>54b172e8d4c07245901e38af65263efc</td>\n",
       "      <td>2024-01-31 23:55:38+00:00</td>\n",
       "      <td>bathroom1</td>\n",
       "      <td>2024</td>\n",
       "      <td>1</td>\n",
       "      <td>31</td>\n",
       "      <td>23</td>\n",
       "      <td>55</td>\n",
       "    </tr>\n",
       "    <tr>\n",
       "      <th>580315</th>\n",
       "      <td>3a1f53e2e242bff03301a250135f894b</td>\n",
       "      <td>0</td>\n",
       "      <td>5ec75a93dcc136e6a4c7a4483d60b2ed</td>\n",
       "      <td>2024-01-31 23:58:26+00:00</td>\n",
       "      <td>bathroom1</td>\n",
       "      <td>2024</td>\n",
       "      <td>1</td>\n",
       "      <td>31</td>\n",
       "      <td>23</td>\n",
       "      <td>58</td>\n",
       "    </tr>\n",
       "    <tr>\n",
       "      <th>580316</th>\n",
       "      <td>3a1f53e2e242bff03301a250135f894b</td>\n",
       "      <td>0</td>\n",
       "      <td>5168c52c3c022d747c81a6e6ce868e3f</td>\n",
       "      <td>2024-01-31 23:59:02+00:00</td>\n",
       "      <td>bedroom1</td>\n",
       "      <td>2024</td>\n",
       "      <td>1</td>\n",
       "      <td>31</td>\n",
       "      <td>23</td>\n",
       "      <td>59</td>\n",
       "    </tr>\n",
       "  </tbody>\n",
       "</table>\n",
       "<p>580317 rows × 10 columns</p>\n",
       "</div>"
      ],
      "text/plain": [
       "                                 home_id  multiple_occupancy  \\\n",
       "0       16d71b9c46d9abd765bf395818efe527                   0   \n",
       "1       16d71b9c46d9abd765bf395818efe527                   0   \n",
       "2       16d71b9c46d9abd765bf395818efe527                   0   \n",
       "3       16d71b9c46d9abd765bf395818efe527                   0   \n",
       "4       16d71b9c46d9abd765bf395818efe527                   0   \n",
       "...                                  ...                 ...   \n",
       "580312  3a1f53e2e242bff03301a250135f894b                   0   \n",
       "580313  3a1f53e2e242bff03301a250135f894b                   0   \n",
       "580314  3a1f53e2e242bff03301a250135f894b                   0   \n",
       "580315  3a1f53e2e242bff03301a250135f894b                   0   \n",
       "580316  3a1f53e2e242bff03301a250135f894b                   0   \n",
       "\n",
       "                                      id                  datetime   location  \\\n",
       "0       d68b171e348758a47d016f1564532dfe 2024-01-01 10:53:48+00:00     lounge   \n",
       "1       a7c2c8dd668e34d559797f4efecc1e2b 2024-01-01 10:55:40+00:00     lounge   \n",
       "2       07171a04ae1af97b1c6d11a1dc3ac89f 2024-01-01 10:56:47+00:00     lounge   \n",
       "3       fe6510edcd2ca6d95183a554e598a7d2 2024-01-01 10:57:12+00:00     lounge   \n",
       "4       c1d5917ca6f695ea971b8251ef1d80e0 2024-01-01 10:59:31+00:00     lounge   \n",
       "...                                  ...                       ...        ...   \n",
       "580312  b1e1ae91265ffd838686669e1bc3b8dd 2024-01-31 23:54:14+00:00   bedroom1   \n",
       "580313  18ac0583c2216bf23fb58505e999865f 2024-01-31 23:55:08+00:00   bedroom1   \n",
       "580314  54b172e8d4c07245901e38af65263efc 2024-01-31 23:55:38+00:00  bathroom1   \n",
       "580315  5ec75a93dcc136e6a4c7a4483d60b2ed 2024-01-31 23:58:26+00:00  bathroom1   \n",
       "580316  5168c52c3c022d747c81a6e6ce868e3f 2024-01-31 23:59:02+00:00   bedroom1   \n",
       "\n",
       "        year  month  day  hour  minute  \n",
       "0       2024      1    1    10      53  \n",
       "1       2024      1    1    10      55  \n",
       "2       2024      1    1    10      56  \n",
       "3       2024      1    1    10      57  \n",
       "4       2024      1    1    10      59  \n",
       "...      ...    ...  ...   ...     ...  \n",
       "580312  2024      1   31    23      54  \n",
       "580313  2024      1   31    23      55  \n",
       "580314  2024      1   31    23      55  \n",
       "580315  2024      1   31    23      58  \n",
       "580316  2024      1   31    23      59  \n",
       "\n",
       "[580317 rows x 10 columns]"
      ]
     },
     "execution_count": 20,
     "metadata": {},
     "output_type": "execute_result"
    }
   ],
   "source": [
    "df_join['year'] = df_join['datetime'].dt.year\n",
    "df_join['month'] = df_join['datetime'].dt.month\n",
    "df_join['day'] = df_join['datetime'].dt.day\n",
    "df_join['hour'] = df_join['datetime'].dt.hour\n",
    "df_join['minute'] = df_join['datetime'].dt.minute\n",
    "df_join"
   ]
  },
  {
   "cell_type": "markdown",
   "metadata": {},
   "source": [
    "## Model training and prediction\n",
    "\n"
   ]
  },
  {
   "cell_type": "code",
   "execution_count": 21,
   "metadata": {},
   "outputs": [
    {
     "name": "stdout",
     "output_type": "stream",
     "text": [
      "Accuracy: 0.6349341742486904\n"
     ]
    }
   ],
   "source": [
    "data = df_join \n",
    "\n",
    "# Split data into features and target variable\n",
    "X = data[['year', 'month', 'day', 'hour', 'minute', 'location']] \n",
    "y = data['multiple_occupancy'] \n",
    "\n",
    "# One-hot encode 'location' feature\n",
    "X = pd.get_dummies(X, columns=['location'])\n",
    "\n",
    "X_train, X_test, y_train, y_test = train_test_split(X, y, test_size=0.2, random_state=42)\n",
    "\n",
    "# Train model\n",
    "model = RandomForestClassifier(random_state=42)\n",
    "model.fit(X_train, y_train)\n",
    "\n",
    "# Predict\n",
    "y_pred = model.predict(X_test)\n",
    "\n",
    "# Evaluate accuracy\n",
    "accuracy = accuracy_score(y_test, y_pred)\n",
    "print(\"Accuracy:\", accuracy)"
   ]
  }
 ],
 "metadata": {
  "kernelspec": {
   "display_name": "env",
   "language": "python",
   "name": "python3"
  },
  "language_info": {
   "codemirror_mode": {
    "name": "ipython",
    "version": 3
   },
   "file_extension": ".py",
   "mimetype": "text/x-python",
   "name": "python",
   "nbconvert_exporter": "python",
   "pygments_lexer": "ipython3",
   "version": "3.11.9"
  }
 },
 "nbformat": 4,
 "nbformat_minor": 2
}
